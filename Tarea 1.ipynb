{
 "cells": [
  {
   "cell_type": "code",
   "execution_count": null,
   "metadata": {
    "collapsed": true
   },
   "outputs": [],
   "source": [
    "import random as ran\n",
    "num_adivinar = ran.randint(3,9)\n",
    "print (num_adivinar)\n",
    "print (\"Tienes 3 intentos para divinar el numero pensadodel 3 al 8\")\n",
    "\n",
    "for i in range (0,3):\n",
    "    adivinanza = int(input(\"dame el numero \"))\n",
    "    if adivinanza == num_adivinar:\n",
    "        print (\"lo lograste\")\n",
    "        break\n",
    "    else:\n",
    "        print (\"intenta de nuevo\")"
   ]
  }
 ],
 "metadata": {
  "kernelspec": {
   "display_name": "Python 3",
   "language": "python",
   "name": "python3"
  },
  "language_info": {
   "codemirror_mode": {
    "name": "ipython",
    "version": 3
   },
   "file_extension": ".py",
   "mimetype": "text/x-python",
   "name": "python",
   "nbconvert_exporter": "python",
   "pygments_lexer": "ipython3",
   "version": "3.6.1"
  }
 },
 "nbformat": 4,
 "nbformat_minor": 2
}
